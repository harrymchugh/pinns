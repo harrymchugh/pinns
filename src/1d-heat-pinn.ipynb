{
 "cells": [
  {
   "attachments": {},
   "cell_type": "markdown",
   "metadata": {},
   "source": [
    "# 1D Heat equation; PINN"
   ]
  },
  {
   "cell_type": "code",
   "execution_count": 421,
   "metadata": {},
   "outputs": [],
   "source": [
    "# initial plot\n",
    "import matplotlib.pyplot as plt\n",
    "import numpy as np\n",
    "import torch\n",
    "import os\n",
    "import pandas as pd\n",
    "from torch.utils.tensorboard import SummaryWriter\n",
    "from sklearn.preprocessing import StandardScaler\n",
    "from sklearn.model_selection import train_test_split\n",
    "from PIL import Image"
   ]
  },
  {
   "attachments": {},
   "cell_type": "markdown",
   "metadata": {},
   "source": [
    "We will store the temperature u, at a given x,t in a 2D tensor called U(t,x)"
   ]
  },
  {
   "cell_type": "code",
   "execution_count": 422,
   "metadata": {},
   "outputs": [],
   "source": [
    "# setup time-space geometry\n",
    "num_points = 51\n",
    "x_start = 0\n",
    "x_stop = 1\n",
    "num_timesteps = 1000\n",
    "t_start = 0\n",
    "t_stop = 1 \n",
    "x = np.linspace(start=x_start, stop=x_stop, num=num_points)\n",
    "t = np.linspace(start=t_start, stop=t_stop, num=num_timesteps)"
   ]
  },
  {
   "attachments": {},
   "cell_type": "markdown",
   "metadata": {},
   "source": [
    "## PINN to learn the 1D-heat diffusion equation"
   ]
  },
  {
   "attachments": {},
   "cell_type": "markdown",
   "metadata": {},
   "source": [
    "The goal of the following section is to show a PINN using:\n",
    "\n",
    "- Initial condition loss\n",
    "- Boundary condition loss\n",
    "- PDE loss\n",
    "- Data driven loss"
   ]
  },
  {
   "cell_type": "code",
   "execution_count": 423,
   "metadata": {},
   "outputs": [
    {
     "name": "stdout",
     "output_type": "stream",
     "text": [
      "U shape: (1000, 51)\n"
     ]
    }
   ],
   "source": [
    "U_load = np.load(\"./1d-heat.npy\")\n",
    "print(f\"U shape: {U_load.shape}\")"
   ]
  },
  {
   "cell_type": "code",
   "execution_count": 424,
   "metadata": {},
   "outputs": [
    {
     "name": "stdout",
     "output_type": "stream",
     "text": [
      "First 5 features [[0.   0.  ]\n",
      " [0.   0.02]\n",
      " [0.   0.04]\n",
      " [0.   0.06]\n",
      " [0.   0.08]]\n",
      "\n",
      "Last 5 features  [[1.   0.92]\n",
      " [1.   0.94]\n",
      " [1.   0.96]\n",
      " [1.   0.98]\n",
      " [1.   1.  ]]\n"
     ]
    }
   ],
   "source": [
    "#Store x,t in a feature array of 2 columns\n",
    "features = np.ones((U_load.shape[0]*U_load.shape[1],2))\n",
    "features[:,1] = np.tile(x,U_load.shape[0])\n",
    "features[:,0] = np.repeat(t,U_load.shape[1])\n",
    "print(f\"First 5 features {features[0:5]}\\n\")\n",
    "print(f\"Last 5 features  {features[-5:]}\")"
   ]
  },
  {
   "cell_type": "code",
   "execution_count": 425,
   "metadata": {},
   "outputs": [
    {
     "name": "stdout",
     "output_type": "stream",
     "text": [
      "First 5 temperature label data: [0.         0.06279052 0.12533323 0.18738131 0.24868989]\n"
     ]
    }
   ],
   "source": [
    "labels = np.ones((U_load.shape[0]*U_load.shape[1],1))\n",
    "labels = U_load.ravel()\n",
    "print(f\"First 5 temperature label data: {labels[0:5]}\")"
   ]
  },
  {
   "cell_type": "code",
   "execution_count": 426,
   "metadata": {},
   "outputs": [],
   "source": [
    "#Set datatype expected by PyTorch\n",
    "labels = labels.astype(np.float32)\n",
    "features = features.astype(np.float32)"
   ]
  },
  {
   "attachments": {},
   "cell_type": "markdown",
   "metadata": {},
   "source": [
    "Data now needs pre-processing ready for PyTorch training including:\n",
    "\n",
    "- Feature scaling\n",
    "- Train-test splitting for model validation"
   ]
  },
  {
   "cell_type": "code",
   "execution_count": 427,
   "metadata": {},
   "outputs": [
    {
     "name": "stdout",
     "output_type": "stream",
     "text": [
      "\n",
      "Pre-scaling:\n",
      " [[0.   0.  ]\n",
      " [0.   0.02]\n",
      " [0.   0.04]\n",
      " [0.   0.06]\n",
      " [0.   0.08]]\n",
      "Mean: 0.5000000596046448 Std: 0.2916906177997589\n",
      "\n",
      "Post-scaling:\n",
      " [[-1.7303196 -1.6984155]\n",
      " [-1.7303196 -1.6304789]\n",
      " [-1.7303196 -1.5625423]\n",
      " [-1.7303196 -1.4946057]\n",
      " [-1.7303196 -1.426669 ]]\n",
      "Mean: 2.1541818995274298e-08 Std: 1.0\n"
     ]
    }
   ],
   "source": [
    "### Pre-processing stage\n",
    "std_scaler = StandardScaler()\n",
    "scaler_features = std_scaler.fit(features)\n",
    "scaled_features = scaler_features.transform(features)\n",
    "\n",
    "print(f\"\\nPre-scaling:\\n {features[0:5]}\")\n",
    "print(f\"Mean: {features.mean()} Std: {features.std()}\")\n",
    "print(f\"\\nPost-scaling:\\n {scaled_features[0:5]}\")\n",
    "print(f\"Mean: {scaled_features.mean()} Std: {scaled_features.std()}\")"
   ]
  },
  {
   "cell_type": "code",
   "execution_count": 428,
   "metadata": {},
   "outputs": [
    {
     "name": "stdout",
     "output_type": "stream",
     "text": [
      "Time vals init condition shape: (51,)\n",
      "Time vals boundary condition shape: (2000,)\n",
      "Time vals interior condition shape: (49000,)\n",
      "Space vals init condition shape: (51,)\n",
      "Space vals boundary condition shape: (2000,)\n",
      "Space vals interior shape: (49000,)\n"
     ]
    }
   ],
   "source": [
    "# Get feature data for initial condition, boundary condition and interior points\n",
    "features_init = features[0:51]\n",
    "\n",
    "features_x0 = features[0::51]\n",
    "features_xstop = features[50::51]\n",
    "features_bound = np.append(features_x0, features_xstop, axis=0)\n",
    "\n",
    "features_interior = np.empty((0,1))\n",
    "start=1\n",
    "block_size=49\n",
    "skip=2\n",
    "while start < features.shape[0]:\n",
    "    features_interior = np.append(features_interior, features[start:start+block_size])\n",
    "    start = start + block_size + skip\n",
    "\n",
    "length = features_interior.ravel().shape[0]\n",
    "features_interior = features_interior.reshape((int(length/2),2))\n",
    "\n",
    "#Now split them into x and t as this is more generic for future multi-dimensional \n",
    "t_init = features_init[:, 0]\n",
    "t_bound = features_bound[:, 0]\n",
    "t_interior = features_interior[:, 0]\n",
    "x_init = features_init[:, 1]\n",
    "x_bound = features_bound[:, 1]\n",
    "x_interior = features_interior[:, 1]\n",
    "\n",
    "print(f\"Time vals init condition shape: {t_init.shape}\")\n",
    "print(f\"Time vals boundary condition shape: {t_bound.shape}\")\n",
    "print(f\"Time vals interior condition shape: {t_interior.shape}\")\n",
    "print(f\"Space vals init condition shape: {x_init.shape}\")\n",
    "print(f\"Space vals boundary condition shape: {x_bound.shape}\")\n",
    "print(f\"Space vals interior shape: {x_interior.shape}\")"
   ]
  },
  {
   "cell_type": "code",
   "execution_count": 429,
   "metadata": {},
   "outputs": [
    {
     "name": "stdout",
     "output_type": "stream",
     "text": [
      "Labels for init condition shape: (51,)\n",
      "Labels for left boundary condition shape: (1000,)\n",
      "Labels for right boundary condition shape: (1000,)\n",
      "\tLabels for both boundary condition shape: (2000,)\n",
      "Labels for interior shape: (49000,)\n"
     ]
    }
   ],
   "source": [
    "# Get label data for initial condition, boundary condition and interior points\n",
    "labels_init = labels[0:51]\n",
    "\n",
    "labels_x0 = labels[0::51]\n",
    "labels_xstop = labels[50::51]\n",
    "labels_bound = np.append(labels_x0, labels_xstop, axis=0)\n",
    "\n",
    "labels_interior = np.empty((0,1))\n",
    "start=1\n",
    "block_size=49\n",
    "skip=2\n",
    "while start < labels.shape[0]:\n",
    "    labels_interior = np.append(labels_interior, labels[start:start+block_size])\n",
    "    start = start + block_size + skip\n",
    "\n",
    "print(f\"Labels for init condition shape: {labels_init.shape}\")\n",
    "print(f\"Labels for left boundary condition shape: {labels_x0.shape}\")\n",
    "print(f\"Labels for right boundary condition shape: {labels_xstop.shape}\")\n",
    "print(f\"\\tLabels for both boundary condition shape: {labels_bound.shape}\")\n",
    "print(f\"Labels for interior shape: {labels_interior.shape}\")"
   ]
  },
  {
   "attachments": {},
   "cell_type": "markdown",
   "metadata": {},
   "source": [
    "In this next section I need to take the output from above and get it into a Dataset/DataLoader format to be used by the model"
   ]
  },
  {
   "cell_type": "code",
   "execution_count": 430,
   "metadata": {},
   "outputs": [],
   "source": [
    "# Define MLP model architecture class\n",
    "class NeuralNetwork(torch.nn.Module):\n",
    "    def __init__(self):\n",
    "        \"\"\"_summary_\n",
    "        \"\"\"\n",
    "        super().__init__()\n",
    "        self.linear_stack = torch.nn.Sequential(\n",
    "            torch.nn.Linear(2, 64),\n",
    "            torch.nn.ReLU(),\n",
    "            torch.nn.Linear(64, 64),\n",
    "            torch.nn.ReLU(),\n",
    "            torch.nn.Linear(64, 1)\n",
    "        )\n",
    "\n",
    "    def forward(self, x, t):\n",
    "        \"\"\"_summary_\n",
    "\n",
    "        Args:\n",
    "            x (_type_): _description_\n",
    "            t (_type_): _description_\n",
    "\n",
    "        Returns:\n",
    "            _type_: _description_\n",
    "        \"\"\"\n",
    "        inputs = torch.cat([x,t], axis=1)\n",
    "        return self.linear_stack(inputs)\n",
    "    \n",
    "def train_loop(x_bound, x_init, x_interior, t_bound, t_init, t_interior,labels_bound, labels_init, labels_interior, model, loss_fn, optimizer, phy_weight, data_weight):\n",
    "    \"\"\"_summary_\n",
    "\n",
    "    Args:\n",
    "        x_bound (_type_): _description_\n",
    "        x_init (_type_): _description_\n",
    "        x_interior (_type_): _description_\n",
    "        t_bound (_type_): _description_\n",
    "        t_init (_type_): _description_\n",
    "        t_interior (_type_): _description_\n",
    "        labels_bound (_type_): _description_\n",
    "        labels_init (_type_): _description_\n",
    "        labels_interior (_type_): _description_\n",
    "        model (_type_): _description_\n",
    "        loss_fn (_type_): _description_\n",
    "        optimizer (_type_): _description_\n",
    "    \"\"\"\n",
    "    optimizer.zero_grad()\n",
    "\n",
    "    interior_pred = model(x_interior, t_interior)\n",
    "    bound_pred = model(x_bound, t_bound)\n",
    "    init_pred = model(x_init, t_init)\n",
    "    \n",
    "    boundary_loss, initial_loss, pde_loss, data_loss = loss_fn(\n",
    "        interior_pred, bound_pred, init_pred, \n",
    "        labels_interior, labels_bound, labels_init, \n",
    "        x_interior, t_interior, \n",
    "        phy_weight, data_weight)\n",
    "    \n",
    "    # print(f\"Total loss: {total_loss}\")\n",
    "    # print(f\"\\tPhysics loss: {physics_loss}\")\n",
    "    print(f\"\\t\\tInitial condition loss: {initial_loss}\")\n",
    "    print(f\"\\t\\tBoundary condition loss: {boundary_loss}\")\n",
    "    print(f\"\\t\\tPDE loss: {pde_loss}\")\n",
    "    print(f\"\\tData loss: {data_loss}\")\n",
    "\n",
    "    #Calculate dBoundaryLoss/dTheta\n",
    "    boundary_loss.backward()\n",
    "    #Loop through layers to get gradient values\n",
    "    grads = []\n",
    "    for param in model.parameters():\n",
    "        grads.append(param.grad.view(-1))\n",
    "    \n",
    "    grads = torch.cat(grads)\n",
    "    print(grads.shape)\n",
    "\n",
    "    # optimizer.zero_grad()\n",
    "    # initial_loss.backward()\n",
    "    # pde_loss.backward()\n",
    "\n",
    "    # print(boundary_loss)\n",
    "    # print(boundary_loss.requires_grad)\n",
    "    # print(boundary_loss.grad)\n",
    "\n",
    "    optimizer.step()"
   ]
  },
  {
   "cell_type": "code",
   "execution_count": 431,
   "metadata": {},
   "outputs": [],
   "source": [
    "def combined_physics_data_loss(interior_pred, bound_pred, init_pred, interior_labels, bound_labels, init_labels, x_interior, t_interior, phy_weight, data_weight):\n",
    "    \"\"\"_summary_\n",
    "\n",
    "    Args:\n",
    "        interior_pred (_type_): _description_\n",
    "        bound_pred (_type_): _description_\n",
    "        init_pred (_type_): _description_\n",
    "        interior_labels (_type_): _description_\n",
    "        bound_labels (_type_): _description_\n",
    "        init_labels (_type_): _description_\n",
    "        x_interior (_type_): _description_\n",
    "        t_interior (_type_): _description_\n",
    "        phy_weight (_type_): _description_\n",
    "        data_weight (_type_): _description_\n",
    "\n",
    "    Returns:\n",
    "        _type_: _description_\n",
    "    \"\"\"\n",
    "    dudx = torch.autograd.grad(interior_pred.sum(), x_interior, retain_graph=True, create_graph=True)[0]\n",
    "    dudt = torch.autograd.grad(interior_pred.sum(), t_interior, retain_graph=True, create_graph=True)[0]\n",
    "    d2udt2 = torch.autograd.grad(dudt.sum(), t_interior, retain_graph=True, create_graph=True)[0]\n",
    "    pde_values = (dudx * d2udt2) - dudt\n",
    "    \n",
    "    mse = torch.nn.MSELoss()\n",
    "    pde_zeros = torch.zeros_like(pde_values)\n",
    "    pde_loss = mse(pde_values,pde_zeros)\n",
    "    initial_loss = mse(labels_init, init_pred)\n",
    "    boundary_loss = mse(labels_bound, bound_pred)\n",
    "    data_loss = mse(interior_pred, interior_labels)\n",
    "    \n",
    "    return boundary_loss, initial_loss, pde_loss, data_loss"
   ]
  },
  {
   "cell_type": "code",
   "execution_count": 432,
   "metadata": {},
   "outputs": [
    {
     "name": "stdout",
     "output_type": "stream",
     "text": [
      "\n",
      "Epoch 1\n",
      "-------------------------------\n",
      "\t\tInitial condition loss: 0.7299357652664185\n",
      "\t\tBoundary condition loss: 0.05075617879629135\n",
      "\t\tPDE loss: 0.0065367501229047775\n",
      "\tData loss: 0.2846713066101074\n",
      "torch.Size([4417])\n",
      "\n",
      "Epoch 2\n",
      "-------------------------------\n",
      "\t\tInitial condition loss: 0.6843079328536987\n",
      "\t\tBoundary condition loss: 0.0363813117146492\n",
      "\t\tPDE loss: 0.005408069118857384\n",
      "\tData loss: 0.2540039122104645\n",
      "torch.Size([4417])\n",
      "\n",
      "Training complete!\n",
      "\n"
     ]
    }
   ],
   "source": [
    "#PINN Model training setup\n",
    "model = NeuralNetwork()\n",
    "loss_fn = combined_physics_data_loss\n",
    "optimizer = torch.optim.Adam(model.parameters(), lr=0.001)\n",
    "\n",
    "x_interior=torch.autograd.Variable(torch.from_numpy(x_interior.reshape(x_interior.shape[0],1)).float(), requires_grad=True)\n",
    "t_interior=torch.autograd.Variable(torch.from_numpy(t_interior.reshape(t_interior.shape[0],1)).float(), requires_grad=True)\n",
    "x_init=torch.autograd.Variable(torch.from_numpy(x_init.reshape(x_init.shape[0],1)).float(), requires_grad=False)\n",
    "t_init=torch.autograd.Variable(torch.from_numpy(t_init.reshape(t_init.shape[0],1)).float(), requires_grad=False)\n",
    "x_bound=torch.autograd.Variable(torch.from_numpy(x_bound.reshape(x_bound.shape[0],1)).float(), requires_grad=False)\n",
    "t_bound=torch.autograd.Variable(torch.from_numpy(t_bound.reshape(t_bound.shape[0],1)).float(), requires_grad=False)\n",
    "labels_bound=torch.autograd.Variable(torch.from_numpy(labels_bound.reshape(labels_bound.shape[0],1)).float(), requires_grad=False)\n",
    "labels_init=torch.autograd.Variable(torch.from_numpy(labels_init.reshape(labels_init.shape[0],1)).float(), requires_grad=False)\n",
    "labels_interior=torch.autograd.Variable(torch.from_numpy(labels_interior.reshape(labels_interior.shape[0],1)).float(), requires_grad=False)\n",
    "\n",
    "phy_weight = 1\n",
    "data_weight = 1\n",
    "\n",
    "epochs = 1\n",
    "for epoch in range(epochs):\n",
    "    print(f\"\\nEpoch {epoch+1}\\n-------------------------------\")\n",
    "    train_loop(x_bound, x_init, x_interior,\\\n",
    "                t_bound, t_init, t_interior,\\\n",
    "                labels_bound, labels_init, labels_interior,\\\n",
    "                model, loss_fn, optimizer,\\\n",
    "                phy_weight, data_weight)\n",
    "print(\"\\nTraining complete!\\n\")"
   ]
  },
  {
   "cell_type": "code",
   "execution_count": 433,
   "metadata": {},
   "outputs": [],
   "source": [
    "#Save the model for future use\n",
    "output_model_path = os.getcwd() + \"/model.pt\"\n",
    "torch.save(model, output_model_path)"
   ]
  },
  {
   "cell_type": "code",
   "execution_count": 434,
   "metadata": {},
   "outputs": [
    {
     "data": {
      "image/png": "[encoded data removed]",
      "text/plain": [
       "<Figure size 640x480 with 6 Axes>"
      ]
     },
     "metadata": {},
     "output_type": "display_data"
    }
   ],
   "source": [
    "def result_plot(simulation, prediction):\n",
    "    \"\"\"_summary_\n",
    "\n",
    "    Args:\n",
    "        simulation (_type_): _description_\n",
    "        prediction (_type_): _description_\n",
    "    \"\"\"\n",
    "    f, (ax1, ax2, ax3) = plt.subplots(1, 3, sharey=True)\n",
    "    f.tight_layout()\n",
    "\n",
    "    # Min and max of real data so plots share limits\n",
    "    sim_min = np.min(simulation)\n",
    "    sim_max = np.max(simulation)\n",
    "    \n",
    "    sim_im = ax1.imshow(simulation, aspect=0.125, vmin=sim_min, vmax=sim_max)\n",
    "    pred_im = ax2.imshow(prediction, aspect=0.125, vmin=sim_min, vmax=sim_max)\n",
    "    res_im = ax3.imshow(simulation-np.asarray(prediction), aspect=0.125, vmin=sim_min, vmax=sim_max)\n",
    "\n",
    "    # Colorbars\n",
    "    f.colorbar(sim_im, orientation='vertical', shrink=0.6)\n",
    "    f.colorbar(pred_im, orientation='vertical', shrink=0.6)\n",
    "    f.colorbar(res_im, orientation='vertical', shrink=0.6)  \n",
    "    \n",
    "    #Titles and labels\n",
    "    ax1.set_title(\"Simulated Data\")\n",
    "    ax1.set_ylabel(\"Time-step index\")\n",
    "    ax1.set_xlabel(\"Spatial index\")\n",
    "    ax2.set_title(\"Predicted Data\")\n",
    "    ax2.set_xlabel(\"Spatial index\")\n",
    "    ax3.set_title(\"Residual\")\n",
    "    ax3.set_xlabel(\"Spatial index\")\n",
    "    \n",
    "    # Make spacing suitable\n",
    "    plt.subplots_adjust(left=None, bottom=None, right=None, top=None, wspace=0.3, hspace=None)\n",
    "    #f.savefig(\"output_img.png\")\n",
    "\n",
    "# Model inferencing and QC\n",
    "t = features[:, 0]\n",
    "x = features[:, 1]\n",
    "\n",
    "with torch.inference_mode():\n",
    "    prediction = model(torch.Tensor(x).reshape((x.shape[0],1)),\n",
    "                       torch.Tensor(t).reshape((t.shape[0],1)))\n",
    "\n",
    "prediction = prediction.reshape_as(torch.Tensor(U_load))\n",
    "simulation = U_load\n",
    "result_plot(simulation,prediction)"
   ]
  },
  {
   "cell_type": "code",
   "execution_count": 435,
   "metadata": {},
   "outputs": [
    {
     "data": {
      "text/plain": [
       "NeuralNetwork(\n",
       "  (linear_stack): Sequential(\n",
       "    (0): Linear(in_features=2, out_features=64, bias=True)\n",
       "    (1): ReLU()\n",
       "    (2): Linear(in_features=64, out_features=64, bias=True)\n",
       "    (3): ReLU()\n",
       "    (4): Linear(in_features=64, out_features=1, bias=True)\n",
       "  )\n",
       ")"
      ]
     },
     "execution_count": 435,
     "metadata": {},
     "output_type": "execute_result"
    }
   ],
   "source": [
    "#Reload the model for QC\n",
    "loaded_model = torch.load(output_model_path)\n",
    "loaded_model"
   ]
  },
  {
   "cell_type": "code",
   "execution_count": 436,
   "metadata": {},
   "outputs": [],
   "source": [
    "a = torch.randn(3, requires_grad=True)\n",
    "b = 3*a + 1\n",
    "c = torch.relu(b)\n",
    "d = c.sum()"
   ]
  },
  {
   "cell_type": "code",
   "execution_count": 437,
   "metadata": {},
   "outputs": [
    {
     "name": "stdout",
     "output_type": "stream",
     "text": [
      "<SumBackward0 object at 0x14c603190>\n",
      "<ReluBackward0 object at 0x14c6010f0>\n",
      "<AddBackward0 object at 0x14c596c20>\n",
      "<MulBackward0 object at 0x14c603b20>\n",
      "<AccumulateGrad object at 0x14c596c20>\n"
     ]
    }
   ],
   "source": [
    "print(d.grad_fn)\n",
    "print(d.grad_fn.next_functions[0][0])\n",
    "print(d.grad_fn.next_functions[0][0].next_functions[0][0])\n",
    "print(d.grad_fn.next_functions[0][0].next_functions[0][0].next_functions[0][0])\n",
    "print(d.grad_fn.next_functions[0][0].next_functions[0][0].next_functions[0][0].next_functions[0][0])"
   ]
  },
  {
   "cell_type": "code",
   "execution_count": 462,
   "metadata": {},
   "outputs": [
    {
     "name": "stdout",
     "output_type": "stream",
     "text": [
      "tensor([[ 0.0000e+00,  0.0000e+00],\n",
      "        [ 3.5174e-04,  1.2494e-03],\n",
      "        [ 0.0000e+00,  0.0000e+00],\n",
      "        [ 0.0000e+00, -1.4257e-03],\n",
      "        [ 0.0000e+00,  0.0000e+00],\n",
      "        [ 0.0000e+00,  0.0000e+00],\n",
      "        [-1.5228e-03, -1.4583e-03],\n",
      "        [ 1.0589e-03,  2.1904e-04],\n",
      "        [ 0.0000e+00,  0.0000e+00],\n",
      "        [-1.3114e-03, -1.7020e-03],\n",
      "        [-6.0902e-03, -2.8704e-03],\n",
      "        [ 0.0000e+00,  0.0000e+00],\n",
      "        [-2.0785e-03, -2.3601e-03],\n",
      "        [ 6.3496e-03,  5.5520e-03],\n",
      "        [-1.2251e-03, -4.3329e-04],\n",
      "        [-5.0990e-03, -3.8154e-03],\n",
      "        [ 1.1382e-02,  6.0828e-03],\n",
      "        [-6.1628e-03, -2.8365e-03],\n",
      "        [ 3.9729e-03,  2.9046e-03],\n",
      "        [ 0.0000e+00,  0.0000e+00],\n",
      "        [ 0.0000e+00,  0.0000e+00],\n",
      "        [ 0.0000e+00,  0.0000e+00],\n",
      "        [ 5.6358e-04,  8.5702e-04],\n",
      "        [ 0.0000e+00,  3.4229e-03],\n",
      "        [ 1.0730e-02,  5.3939e-03],\n",
      "        [ 0.0000e+00,  2.3965e-04],\n",
      "        [ 0.0000e+00,  0.0000e+00],\n",
      "        [ 1.3049e-02,  1.2224e-02],\n",
      "        [ 0.0000e+00,  1.8719e-03],\n",
      "        [ 0.0000e+00,  2.7657e-04],\n",
      "        [ 1.3152e-04,  6.6100e-04],\n",
      "        [-1.7541e-04, -2.2535e-03],\n",
      "        [ 0.0000e+00,  0.0000e+00],\n",
      "        [-6.8814e-03, -7.4999e-03],\n",
      "        [ 0.0000e+00,  2.9908e-03],\n",
      "        [ 0.0000e+00,  4.1044e-03],\n",
      "        [ 4.8046e-03,  2.8875e-03],\n",
      "        [ 5.9299e-03,  3.8262e-03],\n",
      "        [ 0.0000e+00, -6.3350e-04],\n",
      "        [ 0.0000e+00,  2.5565e-05],\n",
      "        [-3.6209e-03, -3.8693e-03],\n",
      "        [ 0.0000e+00, -2.3889e-03],\n",
      "        [ 0.0000e+00,  0.0000e+00],\n",
      "        [ 1.9029e-03,  2.7876e-03],\n",
      "        [ 0.0000e+00,  0.0000e+00],\n",
      "        [-1.1628e-02, -1.0859e-02],\n",
      "        [ 1.5029e-03,  1.7201e-03],\n",
      "        [ 0.0000e+00, -3.9418e-03],\n",
      "        [-1.6637e-04, -1.7589e-03],\n",
      "        [-2.4993e-03, -9.3036e-04],\n",
      "        [ 8.1380e-03,  6.9716e-03],\n",
      "        [-2.0522e-03, -2.5347e-03],\n",
      "        [ 9.5692e-03,  1.0688e-02],\n",
      "        [-3.0209e-04, -1.2897e-05],\n",
      "        [ 9.6464e-04,  1.0882e-03],\n",
      "        [-8.4195e-04, -4.9618e-04],\n",
      "        [ 8.2882e-03,  5.0005e-03],\n",
      "        [ 0.0000e+00,  1.6352e-05],\n",
      "        [-4.1219e-03, -2.6722e-03],\n",
      "        [ 0.0000e+00,  2.4281e-06],\n",
      "        [ 0.0000e+00,  0.0000e+00],\n",
      "        [ 0.0000e+00,  0.0000e+00],\n",
      "        [ 0.0000e+00, -3.9087e-04],\n",
      "        [ 0.0000e+00,  0.0000e+00]])\n",
      "tensor([[ 0.0000,  0.0069,  0.0000,  ...,  0.0000,  0.0007,  0.0000],\n",
      "        [ 0.0000,  0.0000,  0.0000,  ...,  0.0000,  0.0000,  0.0000],\n",
      "        [ 0.0000,  0.0202,  0.0000,  ...,  0.0000,  0.0020,  0.0000],\n",
      "        ...,\n",
      "        [ 0.0000,  0.0000,  0.0000,  ...,  0.0000,  0.0000,  0.0000],\n",
      "        [ 0.0000,  0.0139,  0.0000,  ...,  0.0000,  0.0013,  0.0000],\n",
      "        [ 0.0000, -0.0236,  0.0000,  ...,  0.0000, -0.0023,  0.0000]])\n",
      "tensor([[-3.9777e-02,  0.0000e+00, -1.0756e-01, -3.7222e-02,  0.0000e+00,\n",
      "          0.0000e+00, -7.3833e-02, -4.2219e-02, -4.9228e-02, -1.9707e-02,\n",
      "         -4.6291e-03, -4.7380e-02, -2.7020e-02, -8.1783e-04, -1.5466e-03,\n",
      "         -2.1284e-03,  0.0000e+00,  0.0000e+00,  0.0000e+00, -6.1061e-02,\n",
      "         -5.5916e-02, -2.5337e-02, -2.7540e-04, -2.0734e-02,  0.0000e+00,\n",
      "         -1.5273e-02, -1.1091e-01, -3.6570e-02, -8.9972e-03, -7.9213e-02,\n",
      "         -4.7171e-02, -1.2394e-02, -3.6120e-02, -1.4925e-02,  0.0000e+00,\n",
      "         -2.7918e-02,  0.0000e+00, -1.6632e-02, -4.2739e-02, -9.2217e-02,\n",
      "          0.0000e+00, -2.5112e-02, -8.4687e-02, -1.2137e-01, -4.4102e-02,\n",
      "         -1.1209e-01, -9.2761e-06, -7.2073e-02,  0.0000e+00, -5.2598e-02,\n",
      "         -2.3840e-03,  0.0000e+00,  0.0000e+00,  0.0000e+00, -2.0675e-02,\n",
      "         -2.1347e-02, -1.8036e-03, -8.3134e-02,  0.0000e+00,  0.0000e+00,\n",
      "         -7.0516e-02,  0.0000e+00, -7.9344e-02, -2.5276e-02]])\n"
     ]
    }
   ],
   "source": [
    "for name, param in model.named_parameters():\n",
    "    if \"weight\" in name:\n",
    "        print(param.grad)"
   ]
  },
  {
   "cell_type": "code",
   "execution_count": null,
   "metadata": {},
   "outputs": [],
   "source": []
  }
 ],
 "metadata": {
  "kernelspec": {
   "display_name": "pytorch",
   "language": "python",
   "name": "python3"
  },
  "language_info": {
   "codemirror_mode": {
    "name": "ipython",
    "version": 3
   },
   "file_extension": ".py",
   "mimetype": "text/x-python",
   "name": "python",
   "nbconvert_exporter": "python",
   "pygments_lexer": "ipython3",
   "version": "3.10.9"
  },
  "orig_nbformat": 4,
  "vscode": {
   "interpreter": {
    "hash": "25ce94e37f1a25fdf8adcd273d81508f2b1c2f2746a44398f22bfbc0d71ae135"
   }
  }
 },
 "nbformat": 4,
 "nbformat_minor": 2
}
