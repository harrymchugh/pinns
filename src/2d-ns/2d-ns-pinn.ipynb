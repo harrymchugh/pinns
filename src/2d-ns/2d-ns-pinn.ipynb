{
 "cells": [
  {
   "attachments": {},
   "cell_type": "markdown",
   "metadata": {},
   "source": [
    "# Creating a PINN to simulation 2D incompressible Navier-Stokes\n",
    "\n",
    "We will taken training data from OpenFOAM tutorial."
   ]
  },
  {
   "cell_type": "code",
   "execution_count": 10,
   "metadata": {},
   "outputs": [],
   "source": [
    "import numpy as np\n",
    "import matplotlib.pyplot as plt\n",
    "import Ofpp as ofpp\n",
    "import matplotlib.animation as animation\n",
    "import os"
   ]
  },
  {
   "cell_type": "code",
   "execution_count": 65,
   "metadata": {},
   "outputs": [
    {
     "name": "stdout",
     "output_type": "stream",
     "text": [
      "OpenFOAM data shape: (20, 20, 1001)\n",
      "Start: 0 end: 5\n",
      "dt: 0.005 num timesteps: 1001\n",
      "Write interval: 1 ofoam_num_outputs: 1001.0\n"
     ]
    }
   ],
   "source": [
    "#Read in key parameters from control dict eventually\n",
    "start_time = 0\n",
    "end_time = 5\n",
    "dt = 0.005\n",
    "ofoam_write_interval = 1\n",
    "ofoam_output_inc = dt * ofoam_write_interval\n",
    "ofoam_num_outputs = ( end_time / ofoam_output_inc ) + 1\n",
    "\n",
    "openfoam_case_path = \"/Users/harry/openfoam/cavity-re100/\"\n",
    "\n",
    "x_start = 0\n",
    "x_end = 1\n",
    "y_start = 0\n",
    "y_end = 1\n",
    "numx = 20\n",
    "numy = 20\n",
    "numt = len(np.arange(start_time,end_time + ofoam_output_inc,ofoam_output_inc))\n",
    "shape = (numx,numy,numt)\n",
    "print(f\"OpenFOAM data shape: {shape}\")\n",
    "\n",
    "print(f\"Start: {start_time} end: {end_time}\")\n",
    "print(f\"dt: {dt} num timesteps: {numt}\")\n",
    "print(f\"Write interval: {ofoam_write_interval} ofoam_num_outputs: {ofoam_num_outputs}\")\n",
    "#print(f\"Animation interval: {} animation images: {}\")\n",
    "\n",
    "X, Y = np.meshgrid(np.linspace(x_start,x_end,numx),\n",
    "                   np.linspace(y_start,y_end,numy))\n",
    "\n",
    "u_full = np.empty(shape)\n",
    "v_full = np.empty(shape)\n",
    "w_full = np.empty(shape)\n",
    "p_full = np.empty(shape)\n",
    "\n",
    "openfoam_outputs = os.listdir(openfoam_case_path)\n",
    "openfoam_outputs.remove(\"constant\")\n",
    "openfoam_outputs.remove(\"system\")\n",
    "openfoam_outputs.remove(\"0_orig\")\n",
    "openfoam_outputs.sort()\n",
    "openfoam_outputs = openfoam_outputs[::ofoam_write_interval]\n",
    "\n",
    "idx = 0\n",
    "for time in openfoam_outputs:\n",
    "    openfoam_timestep = openfoam_case_path + time\n",
    "    if time == \"0\":\n",
    "        u_full[:-1,:,idx] = 0\n",
    "        u_full[-1,:,idx] = 1\n",
    "        \n",
    "        v_full[:,:,idx] = 0\n",
    "        \n",
    "        p_full[:,:,idx] = 0\n",
    "    else:\n",
    "        U = ofpp.parse_internal_field(f\"{openfoam_timestep}/U\")\n",
    "        u_full[:,:,idx] = U[:,0].reshape((numx,numy))\n",
    "        v_full[:,:,idx] = U[:,1].reshape((numx,numy))\n",
    "        \n",
    "        p_full[:,:,idx] = ofpp.parse_internal_field(f\"{openfoam_timestep}/p\").reshape((numx,numy))\n",
    "    \n",
    "    idx += 1\n"
   ]
  },
  {
   "cell_type": "code",
   "execution_count": 66,
   "metadata": {},
   "outputs": [
    {
     "data": {
      "text/plain": [
       "array([0., 0., 0., 0., 0., 0., 0., 0., 0., 0., 0., 0., 0., 0., 0., 0., 0.,\n",
       "       0., 0., 1.])"
      ]
     },
     "execution_count": 66,
     "metadata": {},
     "output_type": "execute_result"
    }
   ],
   "source": [
    "u_full[:,1,0]"
   ]
  },
  {
   "cell_type": "code",
   "execution_count": 39,
   "metadata": {},
   "outputs": [
    {
     "name": "stderr",
     "output_type": "stream",
     "text": [
      "/Users/harry/miniconda3/envs/pytorch/lib/python3.10/site-packages/tqdm/auto.py:21: TqdmWarning: IProgress not found. Please update jupyter and ipywidgets. See https://ipywidgets.readthedocs.io/en/stable/user_install.html\n",
      "  from .autonotebook import tqdm as notebook_tqdm\n"
     ]
    }
   ],
   "source": [
    "import torch\n",
    "from sklearn.preprocessing import StandardScaler\n",
    "from sklearn.model_selection import train_test_split"
   ]
  },
  {
   "cell_type": "code",
   "execution_count": 40,
   "metadata": {},
   "outputs": [
    {
     "data": {
      "text/plain": [
       "'cpu'"
      ]
     },
     "execution_count": 40,
     "metadata": {},
     "output_type": "execute_result"
    }
   ],
   "source": [
    "#Use GPU if available\n",
    "device = 'cuda' if torch.cuda.is_available() else 'cpu'\n",
    "device"
   ]
  },
  {
   "cell_type": "code",
   "execution_count": 67,
   "metadata": {},
   "outputs": [
    {
     "data": {
      "text/plain": [
       "(20, 20, 1001)"
      ]
     },
     "execution_count": 67,
     "metadata": {},
     "output_type": "execute_result"
    }
   ],
   "source": [
    "_, _, grid = np.meshgrid(np.linspace(x_start,x_end,numx),\n",
    "                         np.linspace(y_start,y_end,numy),\n",
    "                         np.linspace(start_time,end_time,numt))\n",
    "\n",
    "grid.shape"
   ]
  },
  {
   "cell_type": "code",
   "execution_count": 90,
   "metadata": {},
   "outputs": [
    {
     "data": {
      "text/plain": [
       "array([[[0., 0., 0.],\n",
       "        [1., 1., 1.],\n",
       "        [2., 2., 2.]],\n",
       "\n",
       "       [[0., 0., 0.],\n",
       "        [1., 1., 1.],\n",
       "        [2., 2., 2.]],\n",
       "\n",
       "       [[0., 0., 0.],\n",
       "        [1., 1., 1.],\n",
       "        [2., 2., 2.]]])"
      ]
     },
     "execution_count": 90,
     "metadata": {},
     "output_type": "execute_result"
    }
   ],
   "source": [
    " a, b, c = np.meshgrid(np.linspace(0,2,3),\n",
    "                       np.linspace(0,2,3),\n",
    "                       np.linspace(0,2,3))\n",
    "\n",
    "a"
   ]
  },
  {
   "cell_type": "code",
   "execution_count": 91,
   "metadata": {},
   "outputs": [
    {
     "data": {
      "text/plain": [
       "array([[[0., 0., 0.],\n",
       "        [0., 0., 0.],\n",
       "        [0., 0., 0.]],\n",
       "\n",
       "       [[1., 1., 1.],\n",
       "        [1., 1., 1.],\n",
       "        [1., 1., 1.]],\n",
       "\n",
       "       [[2., 2., 2.],\n",
       "        [2., 2., 2.],\n",
       "        [2., 2., 2.]]])"
      ]
     },
     "execution_count": 91,
     "metadata": {},
     "output_type": "execute_result"
    }
   ],
   "source": [
    "b"
   ]
  },
  {
   "cell_type": "code",
   "execution_count": 92,
   "metadata": {},
   "outputs": [
    {
     "data": {
      "text/plain": [
       "array([[[0., 1., 2.],\n",
       "        [0., 1., 2.],\n",
       "        [0., 1., 2.]],\n",
       "\n",
       "       [[0., 1., 2.],\n",
       "        [0., 1., 2.],\n",
       "        [0., 1., 2.]],\n",
       "\n",
       "       [[0., 1., 2.],\n",
       "        [0., 1., 2.],\n",
       "        [0., 1., 2.]]])"
      ]
     },
     "execution_count": 92,
     "metadata": {},
     "output_type": "execute_result"
    }
   ],
   "source": [
    "c"
   ]
  },
  {
   "cell_type": "code",
   "execution_count": 98,
   "metadata": {},
   "outputs": [
    {
     "data": {
      "text/plain": [
       "array([[0., 0., 0., 1., 1., 1., 2., 2., 2., 0., 0., 0., 1., 1., 1., 2.,\n",
       "        2., 2., 0., 0., 0., 1., 1., 1., 2., 2., 2.],\n",
       "       [0., 0., 0., 0., 0., 0., 0., 0., 0., 1., 1., 1., 1., 1., 1., 1.,\n",
       "        1., 1., 2., 2., 2., 2., 2., 2., 2., 2., 2.],\n",
       "       [0., 1., 2., 0., 1., 2., 0., 1., 2., 0., 1., 2., 0., 1., 2., 0.,\n",
       "        1., 2., 0., 1., 2., 0., 1., 2., 0., 1., 2.]])"
      ]
     },
     "execution_count": 98,
     "metadata": {},
     "output_type": "execute_result"
    }
   ],
   "source": [
    "positions = np.vstack([a.ravel(), b.ravel(), c.ravel()])\n",
    "positions"
   ]
  },
  {
   "cell_type": "code",
   "execution_count": 41,
   "metadata": {},
   "outputs": [],
   "source": [
    "#Data wrangling to get 1D tensors for X,Y,t,u,v,p for interior and boundary conditions\n",
    "#Convert to correct format\n",
    "#Scaling\n",
    "#Train-test split\n",
    "#QC of train-test split\n",
    "#Define NN structure"
   ]
  },
  {
   "cell_type": "code",
   "execution_count": null,
   "metadata": {},
   "outputs": [],
   "source": [
    "# Define MLP model architecture class\n",
    "class NeuralNetwork(torch.nn.Module):\n",
    "    def __init__(self):\n",
    "        \"\"\"_summary_\n",
    "        \"\"\"\n",
    "        super().__init__()\n",
    "        self.linear_stack = torch.nn.Sequential(\n",
    "            torch.nn.Linear(3, 64),\n",
    "            torch.nn.ReLU(),\n",
    "            torch.nn.Linear(64, 64),\n",
    "            torch.nn.ReLU(),\n",
    "            torch.nn.Linear(64, 64),\n",
    "            torch.nn.ReLU(),\n",
    "            torch.nn.Linear(64, 64),\n",
    "            torch.nn.ReLU(),\n",
    "            torch.nn.Linear(64, 3)\n",
    "        )\n",
    "\n",
    "    def forward(self, x, y, t):\n",
    "        \"\"\"_summary_\n",
    "\n",
    "        Args:\n",
    "            x (_type_): _description_\n",
    "            t (_type_): _description_\n",
    "\n",
    "        Returns:\n",
    "            _type_: _description_\n",
    "        \"\"\"\n",
    "        inputs = torch.cat([x,y,t], axis=1).to(device)\n",
    "        return self.linear_stack(inputs)"
   ]
  },
  {
   "cell_type": "code",
   "execution_count": 43,
   "metadata": {},
   "outputs": [],
   "source": [
    "#Training loop"
   ]
  },
  {
   "cell_type": "code",
   "execution_count": 44,
   "metadata": {},
   "outputs": [],
   "source": [
    "#Testing loop"
   ]
  },
  {
   "cell_type": "code",
   "execution_count": 45,
   "metadata": {},
   "outputs": [],
   "source": [
    "#Loss function"
   ]
  },
  {
   "cell_type": "code",
   "execution_count": 46,
   "metadata": {},
   "outputs": [],
   "source": [
    "#Main function"
   ]
  },
  {
   "cell_type": "code",
   "execution_count": 47,
   "metadata": {},
   "outputs": [],
   "source": [
    "#QC plot and GIF using NN to predict fluid flow"
   ]
  },
  {
   "cell_type": "code",
   "execution_count": null,
   "metadata": {},
   "outputs": [],
   "source": []
  }
 ],
 "metadata": {
  "kernelspec": {
   "display_name": "pytorch",
   "language": "python",
   "name": "python3"
  },
  "language_info": {
   "codemirror_mode": {
    "name": "ipython",
    "version": 3
   },
   "file_extension": ".py",
   "mimetype": "text/x-python",
   "name": "python",
   "nbconvert_exporter": "python",
   "pygments_lexer": "ipython3",
   "version": "3.10.9"
  },
  "orig_nbformat": 4
 },
 "nbformat": 4,
 "nbformat_minor": 2
}
