{
 "cells": [
  {
   "cell_type": "code",
   "execution_count": 2,
   "metadata": {},
   "outputs": [],
   "source": [
    "from cfdpinn.args import parse_args"
   ]
  },
  {
   "cell_type": "code",
   "execution_count": 3,
   "metadata": {},
   "outputs": [],
   "source": [
    "import sys"
   ]
  },
  {
   "cell_type": "code",
   "execution_count": 12,
   "metadata": {},
   "outputs": [],
   "source": [
    "sys.argv = [\n",
    "    \"program-name\",\n",
    "    \"--case-type\",\n",
    "    \"cavity\",\n",
    "    \"--case-dir\",\n",
    "    \"/Users/harry/pinns/openfoam/cases/cavity/\",\n",
    "    \"--start-time\",\n",
    "    \"0\",\n",
    "    \"--end-time\",\n",
    "    \"5\",\n",
    "    \"--dt\",\n",
    "    \"0.005\",\n",
    "    \"--numx\",\n",
    "    \"20\",\n",
    "    \"--numy\",\n",
    "    \"20\",\n",
    "    \"--viscosity\",\n",
    "    \"0.01\",\n",
    "    \"--initial_u\",\n",
    "    \"1\",\n",
    "    \"--model-path\",\n",
    "    \"/Users/harry/pinns/models/tmp-2d-ns-pinn-1epochs-lr0.001-adam-cavity-nu0.01-u1-20x20.pt\",\n",
    "    \"--epochs\",\n",
    "    \"1\",\n",
    "    \"--training-animation\",\n",
    "    \"--prediction-animation\",\n",
    "    \"--residual-animation\",\n",
    "    \"--num-frames\",\n",
    "    \"5\",\n",
    "    \"--inference-timing\",\n",
    "    \"--output-pred-data\",\n",
    "    \"--output-train-data\",\n",
    "    \"--output-data-path\",\n",
    "    \"/Users/harry/pinns/data/tmp-outputs\"\n",
    "]"
   ]
  },
  {
   "cell_type": "code",
   "execution_count": 13,
   "metadata": {},
   "outputs": [
    {
     "name": "stdout",
     "output_type": "stream",
     "text": [
      "#################\n",
      "##  CFD PINN   ##\n",
      "#################\n",
      "\n"
     ]
    },
    {
     "data": {
      "text/plain": [
       "Namespace(case_type='cavity', case_dir='/Users/harry/pinns/openfoam/cases/cavity/', start_time=0.0, end_time=5.0, dt=0.005, numx=20, numy=20, viscosity=0.01, initial_u_lid=1.0, test_size=0.7, num_frames=5, training_animation=True, prediction_animation=True, residual_animation=True, static_plots=True, output_pred_data=True, output_train_data=True, output_data_path='/Users/harry/pinns/data/tmp-outputs', pinn_output_path='/Users/harry/pinns/models/tmp-2d-ns-pinn-1epochs-lr0.001-adam-cavity-nu0.01-u1-20x20.pt', tensorboard=False, epochs=1, learning_rate=0.001, inference_timing=True, verbose=False)"
      ]
     },
     "execution_count": 13,
     "metadata": {},
     "output_type": "execute_result"
    }
   ],
   "source": [
    "args = parse_args()\n",
    "args"
   ]
  },
  {
   "cell_type": "code",
   "execution_count": null,
   "metadata": {},
   "outputs": [],
   "source": []
  }
 ],
 "metadata": {
  "kernelspec": {
   "display_name": "cfdpinn-venv",
   "language": "python",
   "name": "python3"
  },
  "language_info": {
   "codemirror_mode": {
    "name": "ipython",
    "version": 3
   },
   "file_extension": ".py",
   "mimetype": "text/x-python",
   "name": "python",
   "nbconvert_exporter": "python",
   "pygments_lexer": "ipython3",
   "version": "3.9.6"
  },
  "orig_nbformat": 4
 },
 "nbformat": 4,
 "nbformat_minor": 2
}
