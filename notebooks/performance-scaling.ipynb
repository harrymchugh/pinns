{
 "cells": [
  {
   "attachments": {},
   "cell_type": "markdown",
   "metadata": {},
   "source": [
    "# Investigating performance and scaling of CFDPINN and OpenFOAM"
   ]
  },
  {
   "attachments": {},
   "cell_type": "markdown",
   "metadata": {},
   "source": [
    "OpenFOAM is a highly optimized computational fluid dynamics software package.\n",
    "\n",
    "In this notebook we compare and contrast OpenFOAM scalability against CFDPINN.\n",
    "\n",
    "We begin by examining the simulation time using OpenFOAM for three examples of the lid-driven cavity case. These three cases use differing mesh sizes which in turn impacts the time to solution. The number of timesteps is held constant, as is the initial conditions.\n",
    "\n",
    "- 20x20\n",
    "- 100x100\n",
    "- 200x200\n",
    "\n",
    "We can then take the trained CFDPINN and perform inference for each of the three grid sizes."
   ]
  },
  {
   "attachments": {},
   "cell_type": "markdown",
   "metadata": {},
   "source": []
  }
 ],
 "metadata": {
  "language_info": {
   "name": "python"
  },
  "orig_nbformat": 4
 },
 "nbformat": 4,
 "nbformat_minor": 2
}
