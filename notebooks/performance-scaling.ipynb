{
 "cells": [
  {
   "attachments": {},
   "cell_type": "markdown",
   "metadata": {},
   "source": [
    "# Investigating performance and scaling of CFDPINN and OpenFOAM"
   ]
  },
  {
   "attachments": {},
   "cell_type": "markdown",
   "metadata": {},
   "source": [
    "OpenFOAM is a highly optimized computational fluid dynamics software package.\n",
    "\n",
    "In this notebook we compare and contrast OpenFOAM scalability against CFDPINN.\n",
    "\n",
    "We begin by examining the simulation time using OpenFOAM for three examples of the lid-driven cavity case. These three cases use differing mesh sizes which in turn impacts the time to solution. The number of timesteps is held constant, as is the initial conditions.\n",
    "\n",
    "- 20x20\n",
    "- 100x100\n",
    "- 200x200\n",
    "\n",
    "We can then take the trained CFDPINN and perform inference for each of the three grid sizes."
   ]
  },
  {
   "attachments": {},
   "cell_type": "markdown",
   "metadata": {},
   "source": [
    "- Load trained PINN model\n",
    "- Setup features based on various geometries\n",
    "- Perform inference with timing\n",
    "- Compare accuracy"
   ]
  },
  {
   "cell_type": "code",
   "execution_count": 3,
   "metadata": {},
   "outputs": [],
   "source": [
    "from cfdpinn.args import parse_args\n",
    "import sys\n",
    "import torch\n",
    "from cfdpinn.geometry import setup_geom\n",
    "from cfdpinn.pinns import predict_fluid\n",
    "from cfdpinn.preprocess import merge_features\n",
    "from pickle import load"
   ]
  },
  {
   "cell_type": "code",
   "execution_count": 4,
   "metadata": {},
   "outputs": [],
   "source": [
    "pinn = torch.load(\"/Users/harry/pinns/models/tmp-2d-ns-pinn-1epochs-lr0.001-adam-cavity-nu0.01-u1-20x20.pt\")"
   ]
  },
  {
   "cell_type": "code",
   "execution_count": 5,
   "metadata": {},
   "outputs": [
    {
     "name": "stdout",
     "output_type": "stream",
     "text": [
      "#################\n",
      "##  CFD PINN   ##\n",
      "#################\n",
      "\n",
      "Setting up geometry...\n",
      "Geometry summary:\n",
      "\tgeom[x_start]: 0\n",
      "\tgeom[x_end]: 1\n",
      "\tgeom[numx]: 20\n",
      "\tgeom[y_start]: 0\n",
      "\tgeom[y_end]: 1\n",
      "\tgeom[numy]: 20\n",
      "\tgeom[t_start]: 0.0\n",
      "\tgeom[t_end]: 5.0\n",
      "\tgeom[t_dt]: 0.005\n",
      "\tgeom[numt]: 1001\n",
      "\tgeom[stride]: 5\n",
      "\tGeometry setup completed\n",
      "\n",
      "Prediction of fluid properties...\n",
      "\tDEBUG: Applying scaler...\n",
      "\tDEBUG: Scaler applied\n",
      "\tDEBUG: len(x): 400400\n",
      "\tDEBUG: len(y): 400400\n",
      "\tDEBUG: len(t): 400400\n",
      "\tFluid properties prediction complete\n",
      "\n"
     ]
    }
   ],
   "source": [
    "sys.argv = [\n",
    "    \"program-name\",\n",
    "    \"--debug\",\n",
    "    \"--case-type\",\n",
    "    \"cavity\",\n",
    "    \"--case-dir\",\n",
    "    \"/Users/harry/pinns/openfoam/cases/cavity_nu0.01_U1\",\n",
    "    \"--start-time\",\n",
    "    \"0\",\n",
    "    \"--end-time\",\n",
    "    \"5\",\n",
    "    \"--sim-dt\",\n",
    "    \"0.001\",\n",
    "    \"--load-dt\",\n",
    "    \"0.005\",\n",
    "    \"--numx\",\n",
    "    \"20\",\n",
    "    \"--numy\",\n",
    "    \"20\",\n",
    "    \"--viscosity\",\n",
    "    \"0.01\",\n",
    "    \"--initial_u\",\n",
    "    \"1\",\n",
    "    \"--scaler-path\",\n",
    "    \"/Users/harry/pinns/models/tmp-scaler.pkl\",\n",
    "    \"--model-path\",\n",
    "    \"/Users/harry/pinns/models/tmp-2d-ns-pinn-1epochs-lr0.001-adam-cavity-nu0.01-u1-20x20.pt\",\n",
    "    \"--epochs\",\n",
    "    \"1\",\n",
    "    \"--training-animation\",\n",
    "    \"--prediction-animation\",\n",
    "    \"--residual-animation\",\n",
    "    \"--num-frames\",\n",
    "    \"5\",\n",
    "    \"--output-pred-data\",\n",
    "    \"--output-train-data\",\n",
    "    \"--output-data-path\",\n",
    "    \"/Users/harry/pinns/data/tmp-outputs\"\n",
    "]\n",
    "\n",
    "args_20x20 = parse_args()\n",
    "geom_20x20 = setup_geom(args_20x20)\n",
    "\n",
    "data = dict()\n",
    "data[\"scaler\"] = load(open(\"/Users/harry/pinns/models/tmp-scaler.pkl\",\"rb\"))\n",
    "\n",
    "data = merge_features(data,geom_20x20)\n",
    "data = predict_fluid(data,pinn,geom_20x20,args_20x20)"
   ]
  },
  {
   "cell_type": "code",
   "execution_count": 6,
   "metadata": {},
   "outputs": [
    {
     "name": "stdout",
     "output_type": "stream",
     "text": [
      "#################\n",
      "##  CFD PINN   ##\n",
      "#################\n",
      "\n",
      "Setting up geometry...\n",
      "Geometry summary:\n",
      "\tgeom[x_start]: 0\n",
      "\tgeom[x_end]: 1\n",
      "\tgeom[numx]: 100\n",
      "\tgeom[y_start]: 0\n",
      "\tgeom[y_end]: 1\n",
      "\tgeom[numy]: 100\n",
      "\tgeom[t_start]: 0.0\n",
      "\tgeom[t_end]: 5.0\n",
      "\tgeom[t_dt]: 0.001\n",
      "\tgeom[numt]: 5001\n",
      "\tgeom[stride]: 1\n",
      "\tGeometry setup completed\n",
      "\n",
      "Prediction of fluid properties...\n",
      "\tDEBUG: Applying scaler...\n",
      "\tDEBUG: Scaler applied\n",
      "\tDEBUG: len(x): 50010000\n",
      "\tDEBUG: len(y): 50010000\n",
      "\tDEBUG: len(t): 50010000\n",
      "\tFluid properties prediction complete\n",
      "\n"
     ]
    }
   ],
   "source": [
    "sys.argv = [\n",
    "    \"program-name\",\n",
    "    \"--debug\",\n",
    "    \"--case-type\",\n",
    "    \"cavity\",\n",
    "    \"--case-dir\",\n",
    "    \"/Users/harry/pinns/openfoam/cases/cavity_nu0.01_U1\",\n",
    "    \"--start-time\",\n",
    "    \"0\",\n",
    "    \"--end-time\",\n",
    "    \"5\",\n",
    "    \"--sim-dt\",\n",
    "    \"0.001\",\n",
    "    \"--load-dt\",\n",
    "    \"0.001\",\n",
    "    \"--numx\",\n",
    "    \"100\",\n",
    "    \"--numy\",\n",
    "    \"100\",\n",
    "    \"--viscosity\",\n",
    "    \"0.01\",\n",
    "    \"--initial_u\",\n",
    "    \"1\",\n",
    "    \"--scaler-path\",\n",
    "    \"/Users/harry/pinns/models/tmp-scaler.pkl\",\n",
    "    \"--model-path\",\n",
    "    \"/Users/harry/pinns/models/tmp-2d-ns-pinn-1epochs-lr0.001-adam-cavity-nu0.01-u1-20x20.pt\",\n",
    "    \"--epochs\",\n",
    "    \"1\",\n",
    "    \"--training-animation\",\n",
    "    \"--prediction-animation\",\n",
    "    \"--residual-animation\",\n",
    "    \"--num-frames\",\n",
    "    \"5\",\n",
    "    \"--output-pred-data\",\n",
    "    \"--output-train-data\",\n",
    "    \"--output-data-path\",\n",
    "    \"/Users/harry/pinns/data/tmp-outputs\"\n",
    "]\n",
    "\n",
    "args_100x100 = parse_args()\n",
    "geom_100x100 = setup_geom(args_100x100)\n",
    "\n",
    "data = dict()\n",
    "data[\"scaler\"] = load(open(\"/Users/harry/pinns/models/tmp-scaler.pkl\",\"rb\"))\n",
    "\n",
    "data = merge_features(data,geom_100x100)\n",
    "data = predict_fluid(data,pinn,geom_100x100,args_100x100)"
   ]
  },
  {
   "cell_type": "code",
   "execution_count": null,
   "metadata": {},
   "outputs": [],
   "source": []
  }
 ],
 "metadata": {
  "kernelspec": {
   "display_name": "cfdpinn-venv",
   "language": "python",
   "name": "python3"
  },
  "language_info": {
   "codemirror_mode": {
    "name": "ipython",
    "version": 3
   },
   "file_extension": ".py",
   "mimetype": "text/x-python",
   "name": "python",
   "nbconvert_exporter": "python",
   "pygments_lexer": "ipython3",
   "version": "3.9.6"
  },
  "orig_nbformat": 4
 },
 "nbformat": 4,
 "nbformat_minor": 2
}
